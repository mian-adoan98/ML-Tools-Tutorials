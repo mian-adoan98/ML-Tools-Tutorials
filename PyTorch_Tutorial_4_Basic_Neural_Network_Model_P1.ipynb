{
  "nbformat": 4,
  "nbformat_minor": 0,
  "metadata": {
    "colab": {
      "provenance": [],
      "authorship_tag": "ABX9TyNkpOHGwCmp65k1M0+yUEML",
      "include_colab_link": true
    },
    "kernelspec": {
      "name": "python3",
      "display_name": "Python 3"
    },
    "language_info": {
      "name": "python"
    }
  },
  "cells": [
    {
      "cell_type": "markdown",
      "metadata": {
        "id": "view-in-github",
        "colab_type": "text"
      },
      "source": [
        "<a href=\"https://colab.research.google.com/github/mian-adoan98/MachineLearningTutorial/blob/main/PyTorch_Tutorial_4_Basic_Neural_Network_Model_P1.ipynb\" target=\"_parent\"><img src=\"https://colab.research.google.com/assets/colab-badge.svg\" alt=\"Open In Colab\"/></a>"
      ]
    },
    {
      "cell_type": "markdown",
      "source": [
        "**NEURAL NETWORK P1: BUILDING NEURAL NETWORK MODEL**"
      ],
      "metadata": {
        "id": "WuKtH3g2yk79"
      }
    },
    {
      "cell_type": "code",
      "source": [
        "import torch\n",
        "import torch.nn as nn\n",
        "import torch.nn.functional as func"
      ],
      "metadata": {
        "id": "Eof-5H9Hyr4Y"
      },
      "execution_count": 2,
      "outputs": []
    },
    {
      "cell_type": "code",
      "source": [
        "# create a Model Class that inherits nn.Module\n",
        "class Model(nn.Module):\n",
        "  # Input layer (4 features of the flower) -->\n",
        "  # Hidden Layer 1(number of neurons) --> H2(n) --> H3(n) --> ... --> Hk(n)\n",
        "  # output (3 classes of iris flowers)\n",
        "\n",
        "  def __init__(self, in_features=4, h1=8, h2=9, output=3):\n",
        "    super().__init__() # instatiate our nn.Module\n",
        "    self.fc1 = nn.Linear(in_features, h1)\n",
        "    self.fc2 = nn.Linear(h1, h2)\n",
        "    self.out = nn.Linear(h2, output)\n",
        "\n",
        "  def forward(self, x):\n",
        "    x = func.relu(self.fc1(x))\n",
        "    x = func.relu(self.fc2(x))\n",
        "    x = func.out(x)\n",
        "\n",
        "    return x"
      ],
      "metadata": {
        "id": "R8gYEE610Hlx"
      },
      "execution_count": 4,
      "outputs": []
    },
    {
      "cell_type": "code",
      "source": [
        "# Pick a manual seed for randomization\n",
        "torch.manual_seed(41)\n",
        "# create an instance of model\n",
        "model = Model()"
      ],
      "metadata": {
        "id": "RQlzxaew2X3N"
      },
      "execution_count": 5,
      "outputs": []
    },
    {
      "cell_type": "code",
      "source": [],
      "metadata": {
        "id": "_Ks6MSUl21vu"
      },
      "execution_count": null,
      "outputs": []
    }
  ]
}