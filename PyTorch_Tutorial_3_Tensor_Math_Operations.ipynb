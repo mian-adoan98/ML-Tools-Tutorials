{
  "nbformat": 4,
  "nbformat_minor": 0,
  "metadata": {
    "colab": {
      "provenance": [],
      "authorship_tag": "ABX9TyPW62ck6MGvEPGUyVJqNqWl",
      "include_colab_link": true
    },
    "kernelspec": {
      "name": "python3",
      "display_name": "Python 3"
    },
    "language_info": {
      "name": "python"
    }
  },
  "cells": [
    {
      "cell_type": "markdown",
      "metadata": {
        "id": "view-in-github",
        "colab_type": "text"
      },
      "source": [
        "<a href=\"https://colab.research.google.com/github/mian-adoan98/MachineLearningTutorial/blob/main/PyTorch_Tutorial_3_Tensor_Math_Operations.ipynb\" target=\"_parent\"><img src=\"https://colab.research.google.com/assets/colab-badge.svg\" alt=\"Open In Colab\"/></a>"
      ]
    },
    {
      "cell_type": "markdown",
      "source": [
        "**TENSOR MATH OPERATIONS**\n",
        "+ Add, Subtract, Multiply, Divide, Remainders, Exponents\n",
        "+ Shorthand, Longhand\n",
        "+ Reassignment"
      ],
      "metadata": {
        "id": "oWmJtxafuCVn"
      }
    },
    {
      "cell_type": "code",
      "execution_count": 7,
      "metadata": {
        "id": "C8GZSlD7sY7j"
      },
      "outputs": [],
      "source": [
        "import torch\n",
        "import numpy as np"
      ]
    },
    {
      "cell_type": "code",
      "source": [
        "tensorA = torch.tensor([1,2,3,4])\n",
        "tensorB = torch.tensor([5,6,7,8])"
      ],
      "metadata": {
        "id": "2oZ1VRz7s29G"
      },
      "execution_count": 39,
      "outputs": []
    },
    {
      "cell_type": "code",
      "source": [
        "# Addition\n",
        "tensorA + tensorB # adding shorthand\n",
        "torch.add(tensorA, tensorB) # adding longhand"
      ],
      "metadata": {
        "colab": {
          "base_uri": "https://localhost:8080/"
        },
        "id": "NhRZjHlnufqN",
        "outputId": "565ea2a4-7bbe-41b9-a07c-a8cb0a82eb70"
      },
      "execution_count": 14,
      "outputs": [
        {
          "output_type": "execute_result",
          "data": {
            "text/plain": [
              "tensor([ 6,  8, 10, 12])"
            ]
          },
          "metadata": {},
          "execution_count": 14
        }
      ]
    },
    {
      "cell_type": "code",
      "source": [
        "# Sutraction\n",
        "tensorA - tensorB\n",
        "torch.sub(tensorA, tensorB)"
      ],
      "metadata": {
        "colab": {
          "base_uri": "https://localhost:8080/"
        },
        "id": "Z3NO8iwNuinP",
        "outputId": "69fb4a7c-d47d-4c53-b8d7-251210e89915"
      },
      "execution_count": 15,
      "outputs": [
        {
          "output_type": "execute_result",
          "data": {
            "text/plain": [
              "tensor([-4, -4, -4, -4])"
            ]
          },
          "metadata": {},
          "execution_count": 15
        }
      ]
    },
    {
      "cell_type": "code",
      "source": [
        "# Multiplication 1: component-wise\n",
        "tensorA*tensorB\n",
        "torch.multiply(tensorA, tensorB)\n",
        "torch.mul(tensorA, tensorB)"
      ],
      "metadata": {
        "colab": {
          "base_uri": "https://localhost:8080/"
        },
        "id": "YEOjxnIkultR",
        "outputId": "4f97bd16-0dc8-41ba-81b1-9fbd138202a2"
      },
      "execution_count": 17,
      "outputs": [
        {
          "output_type": "execute_result",
          "data": {
            "text/plain": [
              "tensor([ 5, 12, 21, 32])"
            ]
          },
          "metadata": {},
          "execution_count": 17
        }
      ]
    },
    {
      "cell_type": "code",
      "source": [
        "# Division 1: Component-wise\n",
        "tensorB/tensorA # tensor([5.0000, 3.0000, 2.3333, 2.0000])\n",
        "tensorB//tensorA # tensor([5, 3, 2, 2])\n",
        "\n",
        "torch.div(tensorB, tensorA) # tensor([5.0000, 3.0000, 2.3333, 2.0000])"
      ],
      "metadata": {
        "colab": {
          "base_uri": "https://localhost:8080/"
        },
        "id": "BlusL6GtutVj",
        "outputId": "0b43f151-20f1-4c96-a16c-fba00c212f22"
      },
      "execution_count": 20,
      "outputs": [
        {
          "output_type": "execute_result",
          "data": {
            "text/plain": [
              "tensor([5.0000, 3.0000, 2.3333, 2.0000])"
            ]
          },
          "metadata": {},
          "execution_count": 20
        }
      ]
    },
    {
      "cell_type": "code",
      "source": [
        "# Remainder\n",
        "tensorB % tensorA"
      ],
      "metadata": {
        "colab": {
          "base_uri": "https://localhost:8080/"
        },
        "id": "BtMlpAgLvYgn",
        "outputId": "1e0a5e1a-34c8-45b5-89ed-b11d750ba758"
      },
      "execution_count": 21,
      "outputs": [
        {
          "output_type": "execute_result",
          "data": {
            "text/plain": [
              "tensor([0, 0, 1, 0])"
            ]
          },
          "metadata": {},
          "execution_count": 21
        }
      ]
    },
    {
      "cell_type": "code",
      "source": [
        "torch.remainder(tensorB, tensorA)"
      ],
      "metadata": {
        "colab": {
          "base_uri": "https://localhost:8080/"
        },
        "id": "C_iPtWB1vzWz",
        "outputId": "37875d5f-24fa-4620-f68a-1552455c4a7d"
      },
      "execution_count": 22,
      "outputs": [
        {
          "output_type": "execute_result",
          "data": {
            "text/plain": [
              "tensor([0, 0, 1, 0])"
            ]
          },
          "metadata": {},
          "execution_count": 22
        }
      ]
    },
    {
      "cell_type": "code",
      "source": [
        "# Exponents: component-wise\n",
        "tensor_kw = torch.tensor([2,2,2,2])\n",
        "torch.pow(tensorA,tensor_kw)"
      ],
      "metadata": {
        "colab": {
          "base_uri": "https://localhost:8080/"
        },
        "id": "k4YoTTUHv2zu",
        "outputId": "abedbf81-6a7e-455d-c4d4-35c5e86f715d"
      },
      "execution_count": 26,
      "outputs": [
        {
          "output_type": "execute_result",
          "data": {
            "text/plain": [
              "tensor([ 1,  4,  9, 16])"
            ]
          },
          "metadata": {},
          "execution_count": 26
        }
      ]
    },
    {
      "cell_type": "code",
      "source": [
        "# another way to write longhand\n",
        "tensorA.add(tensorB) # same for mul, div, pow, etc."
      ],
      "metadata": {
        "colab": {
          "base_uri": "https://localhost:8080/"
        },
        "id": "CU8RjiydwFyw",
        "outputId": "065ce56f-025b-487f-ff71-8d8da6410ad6"
      },
      "execution_count": 29,
      "outputs": [
        {
          "output_type": "execute_result",
          "data": {
            "text/plain": [
              "tensor([ 6,  8, 10, 12])"
            ]
          },
          "metadata": {},
          "execution_count": 29
        }
      ]
    },
    {
      "cell_type": "code",
      "source": [
        "# Reassignment\n",
        "tensorA"
      ],
      "metadata": {
        "colab": {
          "base_uri": "https://localhost:8080/"
        },
        "id": "3gWevZVtwq-u",
        "outputId": "367cd03c-ae74-4b3b-821d-5b2e13d972b0"
      },
      "execution_count": 40,
      "outputs": [
        {
          "output_type": "execute_result",
          "data": {
            "text/plain": [
              "tensor([1, 2, 3, 4])"
            ]
          },
          "metadata": {},
          "execution_count": 40
        }
      ]
    },
    {
      "cell_type": "code",
      "source": [
        "tensorA = tensorA + tensorB # tensor([ 6,  8, 10, 12])\n",
        "tensorA"
      ],
      "metadata": {
        "colab": {
          "base_uri": "https://localhost:8080/"
        },
        "id": "iDc3M2ezw8AQ",
        "outputId": "2c7ec510-210e-436a-b2c8-0e1dc2145950"
      },
      "execution_count": 41,
      "outputs": [
        {
          "output_type": "execute_result",
          "data": {
            "text/plain": [
              "tensor([ 6,  8, 10, 12])"
            ]
          },
          "metadata": {},
          "execution_count": 41
        }
      ]
    },
    {
      "cell_type": "code",
      "source": [
        "tensorA.add_(tensorB) # tensor([ 6,  8, 10, 12])"
      ],
      "metadata": {
        "id": "BrKrfv-nxMP5"
      },
      "execution_count": null,
      "outputs": []
    }
  ]
}